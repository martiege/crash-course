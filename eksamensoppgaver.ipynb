{
 "cells": [
  {
   "cell_type": "markdown",
   "metadata": {},
   "source": [
    "# KODEFORSTÅELSE\n",
    "\n",
    "- Husk å lese oppgaveteksten nøye!\n",
    "- Ofte er det spørsmål både om hva som returneres av et funksjonskall, og spørsmål om å beskrive funksjonen samtidig! \n",
    "- Dette betyr ikke linje for linje hva som skjer i koden, men heller hva poenget med funksjonen er. "
   ]
  },
  {
   "cell_type": "code",
   "execution_count": null,
   "metadata": {},
   "outputs": [],
   "source": [
    "def f(x): \n",
    "    r = 1 \n",
    "    while x >= 1: \n",
    "        r *= x \n",
    "        x -= 1\n",
    "    return r"
   ]
  },
  {
   "cell_type": "markdown",
   "metadata": {},
   "source": [
    "Eksempel på galt svar for funksjonen over: Funksjonen setter r=1, og så lenge x er større eller lik 1 ganges r med x, og x minker med 1."
   ]
  },
  {
   "cell_type": "markdown",
   "metadata": {},
   "source": [
    "Eksempel på riktig(ere) svar: Funksjonen beregner verdien av x!, altså x fakultet (x * (x - 1) * ... * 2 * 1). \n"
   ]
  },
  {
   "cell_type": "markdown",
   "metadata": {},
   "source": [
    "## Kodeforståelse 2016 2d\n",
    "- Hva blir skrevet ut på skjermen hvis koden under blir kjørt? \n",
    "- Forklar med en setning hva funksjonen f gjør. "
   ]
  },
  {
   "cell_type": "code",
   "execution_count": 1,
   "metadata": {},
   "outputs": [
    {
     "name": "stdout",
     "output_type": "stream",
     "text": [
      "6\n"
     ]
    }
   ],
   "source": [
    "def f(x): \n",
    "    # x = 15\n",
    "    y = 0 \n",
    "    while x > 0: \n",
    "        y = y + x % 10  # y = 0 + 5 + 1 = 6\n",
    "        x = int(x / 10) # x = 0\n",
    "    if y >= 10: \n",
    "        y = f( y )\n",
    "    return y \n",
    "\n",
    "print( f(32145) )"
   ]
  },
  {
   "cell_type": "markdown",
   "metadata": {},
   "source": [
    "## Kodeforståelse 2016 kont 4b\n",
    "- Hva returneres hvis man kaller f([[3, 5], [2, 4], [1, 3]]) med koden nedenfor? \n",
    "- Forklar med _en setning_ hva funksjonen f gjør? "
   ]
  },
  {
   "cell_type": "code",
   "execution_count": 2,
   "metadata": {},
   "outputs": [
    {
     "data": {
      "text/plain": [
       "[[3, 2, 1], [5, 4, 3]]"
      ]
     },
     "execution_count": 2,
     "metadata": {},
     "output_type": "execute_result"
    }
   ],
   "source": [
    "def f(b): \n",
    "    c = len(b[0]) # 2, kol\n",
    "    d = len(b)    # 3, rad\n",
    "    g = [[0 for row in range(d)] # [0, 0, 0]\n",
    "        for col in range(c)] # => \n",
    "    # [\n",
    "    #   [0, 0, 0],\n",
    "    #   [0, 0, 0]\n",
    "    # ]\n",
    "    # [\n",
    "    #   [3, 2, 1],\n",
    "    #   [5, 4, 3]\n",
    "    # ]\n",
    "    \n",
    "    for e in range(0, c):     # kol, 2\n",
    "        for f in range(0, d): # rad, 3\n",
    "            g[e][f] = b[f][e] \n",
    "    return g\n",
    "\n",
    "f([\n",
    "    [3, 5], \n",
    "    [2, 4], \n",
    "    [1, 3]\n",
    "])"
   ]
  },
  {
   "cell_type": "markdown",
   "metadata": {},
   "source": [
    "## Kodeforståelse 2017 2a\n",
    "- Funksjonen bin_search er ment til å skulle utføre binærsøk, men resulterer i feilmeldingen \"IndexError: list index out of range\". \n",
    "- I hvilken linje er feilen? \n",
    "- Hva skulle egentlig stått på den linjen for at funksjonen skal virke etter sin hensikt? "
   ]
  },
  {
   "cell_type": "code",
   "execution_count": 4,
   "metadata": {},
   "outputs": [
    {
     "name": "stdout",
     "output_type": "stream",
     "text": [
      "4\n"
     ]
    }
   ],
   "source": [
    "def bin_search(liste, verdi, imin, imax): \n",
    "    if (imax < imin): \n",
    "        return False \n",
    "    else: \n",
    "        imid = (imin + imax) // 2\n",
    "        if verdi < liste[imid]: \n",
    "            return bin_search(liste, verdi, imin, imid-1)\n",
    "        elif verdi > liste[imid]: \n",
    "            return bin_search(liste, verdi, imid+1, imax)\n",
    "        else: \n",
    "            return imid \n",
    "        \n",
    "liste = [1, 2, 5, 7, 66, 433] \n",
    "print(bin_search(liste, 66, 0, len(liste)))"
   ]
  },
  {
   "cell_type": "markdown",
   "metadata": {},
   "source": [
    "## Kodeforståelse 2018 sett 1 2a\n",
    "- Hva returneres ved funksjonskallet under?  "
   ]
  },
  {
   "cell_type": "code",
   "execution_count": null,
   "metadata": {},
   "outputs": [],
   "source": [
    "def myst(val1, val2): \n",
    "    # val1 == False\n",
    "    # val2 == True\n",
    "    if (val1 and val2): \n",
    "        return 1 # Ikke\n",
    "    elif (val1 and not val2): \n",
    "        return 2 # Ikke\n",
    "    elif (not val1 and val2): \n",
    "        return 3 # dette!\n",
    "    else: \n",
    "        return 4\n",
    "\n",
    "c = (True and False) # False\n",
    "d = (False and True) # False\n",
    "a = (c or d) # False\n",
    "\n",
    "e = (False or True)  # True\n",
    "f = (not (not True)) # True\n",
    "b = (e and f) # True\n",
    "\n",
    "myst(a, b) # 3"
   ]
  },
  {
   "cell_type": "markdown",
   "metadata": {},
   "source": [
    "## Programmering 2016 kont 2\n",
    "- Du kan anta at alle funksjonene mottar gyldige argumenter (inn-verdier). \n",
    "- Du kan benytte deg av funksjoner fra deloppgaver selv om du ikke har løst deloppgaven. \n",
    "- I denne oppgaven skal man lage funksjoner for å lese en tekstfil med binærkode og gjøre om dette til tegn kodet i eget kodesett for tegn og bokstaver og lagre det il tekstfil. "
   ]
  },
  {
   "cell_type": "markdown",
   "metadata": {},
   "source": [
    "## Programmering 2016 kont 2a\n",
    "- Lag funksjonen load_bin som har en inn-parameter _filename_, som er navnet på fila som skal lastes inn. \n",
    "- Funksjonen skal lese inn alt innholdet i fila og returnere innholdet som en tekststreng uten linjeskift eller mellomrom. \n",
    "- Fila som det leses fra er en tekstfil bestående av binære tall (0 og 1). \n",
    "- Hvis fila ikke eksisterer eller ikke kan åpnes, skal funksjonen returnere en tom streng samt skrive ut følgende feilmelding til skjerm: \n",
    "- \"Error: Could not open file {filename}\", der {filename} er navnet på fila. "
   ]
  },
  {
   "cell_type": "code",
   "execution_count": 2,
   "metadata": {},
   "outputs": [],
   "source": [
    "\n",
    "def load_bin(filename): \n",
    "    try: \n",
    "        f = open(filename, 'r')\n",
    "        \n",
    "        res = \"\"\n",
    "        \n",
    "        for linje in f.readlines(): \n",
    "            for bokstav in linje: \n",
    "                if bokstav in ('0', '1'): \n",
    "                    res += bokstav\n",
    "            # res += linje.strip()\n",
    "        \n",
    "        f.close()\n",
    "        \n",
    "        return res\n",
    "        \n",
    "    except: \n",
    "        print(\"Error: Could not open file\", filename)\n",
    "        return \"\"\n",
    "    \n"
   ]
  },
  {
   "cell_type": "markdown",
   "metadata": {},
   "source": [
    "## Programmering 2016 kont 2b\n",
    "- Lag funksjonen bin_to_dec som har en inn-parameter _binary_, som er en tekststreng av ukjent størrelse bestående av binære tall (tekststreng med nuller og enere). \n",
    "- Funksjonen skal returnere et heltall (dvs. i titallssystemet) som tilsvarer det binære tallet angitt med tekststrengen _binary_. \n",
    "- Oppgaven __skal ikke løses__ ved hjelp av innebygde funksjoner for å oversette binærtall til heltall. "
   ]
  },
  {
   "cell_type": "code",
   "execution_count": 19,
   "metadata": {},
   "outputs": [],
   "source": [
    "def btd(b): \n",
    "    dec = 0\n",
    "    for i, x in enumerate(b): \n",
    "        dec += int(x) * 2**(len(b)-1-i)\n",
    "    return dec\n",
    "\n",
    "\n",
    "def bin_to_dec(binary): \n",
    "    # 1010 -> 10\n",
    "    rev_bin = binary[::-1]\n",
    "    \n",
    "    # 0101 \n",
    "    dec = 0\n",
    "    for i, x in enumerate(rev_bin): \n",
    "        dec += int(x) * 2**(i)\n",
    "        # dec = 0 * 2**(0) + 1 * 2**(1) + 0 * 2**(2) + 1 * 2**(3)\n",
    "    \n",
    "    return dec\n",
    "\n"
   ]
  },
  {
   "cell_type": "markdown",
   "metadata": {},
   "source": [
    "## Programmering 2016 kont 2c\n",
    "- Lag funksjonen dec_to_char som har en inn-parameter _dec_, som er et heltall med verdi mellom 0 og 31. \n",
    "- Funksjonen skal returnere et tegn eller en bokstav avhengig av verdien av _dec_. \n",
    "---\n",
    "1. Hvis _dec_ har verdien 0 skal tegnet for \" \" (mellomrom) returneres\n",
    "2. Hvis _dec_ har verdien 1 skal tegnet for \",\" (komma) returneres\n",
    "3. Hvis _dec_ har verdien 2 skal tegnet for \".\" (punktum) returneres\n",
    "4. Hvis _dec_ har en verdi mellom 3 og 31 skal en stor bokstav i det norske alfabetet returneres, der _dec=3_ gir bokstaven \"A\", _dec=4_ gir bokstaven \"B\", helt opp til _dec=31_ som gir bokstaven \"Å\". \n",
    "5. For alle andre verdier av _dec_ skal funksjonen returnere en tom streng. "
   ]
  },
  {
   "cell_type": "code",
   "execution_count": 25,
   "metadata": {},
   "outputs": [],
   "source": [
    "OPPSLAG = \" ,.ABCDEFGHIJKLMNOPQRSTUVWXYZÆØÅ\" # Antar at strengen er i alfabetisk etc.\n",
    "\n",
    "\n",
    "def dec_to_char(dec): \n",
    "    if dec < 0 or dec >= len(OPPSLAG): \n",
    "        return \"\"\n",
    "    else: \n",
    "        return OPPSLAG[dec]\n",
    "\n"
   ]
  },
  {
   "cell_type": "markdown",
   "metadata": {},
   "source": [
    "## Programmering 2016 kont 2d\n",
    "- Lag funksjonen bin_to_txt som har en inn-parameter _binstring_, som er en tekststreng av ukjent lengde bestående av binære tall (tekststreng ed nuller og enere). \n",
    "- Funksjonen skal returnere en tekststreng bestående av bokstaver og tegn som er kodet i henhold til oppgave 2c der hvert tegn er representert med 5 bit. \n",
    "- Inn-parameteren _binstring_ vil alltid være et multiplum av fem siffer. "
   ]
  },
  {
   "cell_type": "code",
   "execution_count": 26,
   "metadata": {},
   "outputs": [
    {
     "name": "stdout",
     "output_type": "stream",
     "text": [
      "BA\n"
     ]
    }
   ],
   "source": [
    "# \"1001010101\"\n",
    "\n",
    "def bin_to_txt(binstring): \n",
    "    \n",
    "    resultat = \"\"\n",
    "    \n",
    "    for i in range(0, len(binstring), 5): \n",
    "        binnum = binstring[i:i+5]\n",
    "        dec = bin_to_dec(binnum)\n",
    "        char = dec_to_char(dec)\n",
    "        resultat += char\n",
    "    \n",
    "    return resultat\n",
    "\n",
    "a = \"0010000011\"\n",
    "print(bin_to_txt(a))"
   ]
  },
  {
   "cell_type": "markdown",
   "metadata": {},
   "source": [
    "## Programmering 2016 kont 2e\n",
    "- Lag funksjonen _main_, uten parametere. \n",
    "- Funksjonen skal gjøre følgende:\n",
    "---\n",
    "1. Skrive ut teksten \"Binary-to-text converter\" til skjerm \n",
    "2. Spørre brukeren om navn på fil det skal lastes fra (tekstfil som inneholder binære tall) og ta vare på filnavnet i variabelen *b_file. \n",
    "3. Oversette tekststrengen av binære tall til tekst med bokstaver og tegn og lagre innholdet i variabelen _txt_. \n",
    "4. Spørre brukeren om navnet på fil som resultatet skal lagres til og ta vare på filnavnet i variabelen *t_file. \n",
    "5. Skrive innholdet av variabelen _txt_ til fila med filnavn angitt i variabelen *t_file. \n",
    "6. Skrive ut til brukeren at: \"*b_file* has been converted and saved to *t_file*\". \n",
    "---\n",
    "Hvis funksjonen får problemer med å skrive til fila, skal følgende feilmelding skrives: \"Error: Could not write to file *t_file*\". "
   ]
  },
  {
   "cell_type": "code",
   "execution_count": 27,
   "metadata": {},
   "outputs": [],
   "source": [
    "\n",
    "\n",
    "def main(): \n",
    "    print('Binary-to-text converter')\n",
    "    b_file = input(\"Skriv inn navn på tekst fil med binære tall: \")\n",
    "    txt = bin_to_txt(load_bin(b_file))\n",
    "    t_file = input(\"Skriv inn navn på tekst fil som resultatet skal lagres i: \")\n",
    "    \n",
    "    try: \n",
    "        f = open(t_file, 'w')\n",
    "        f.write(txt)\n",
    "        f.close()\n",
    "        print(b_file, \"has been converted and saved to\", t_file)\n",
    "    except: \n",
    "        print('Error: Could not write to file', t_file)\n"
   ]
  },
  {
   "cell_type": "markdown",
   "metadata": {},
   "source": [
    "## Programmering 2020 kont 3.1\n",
    "- Lag funksjonen *sec_to_time* som har en input-parameterssom er antall sekunder angitt som et heltall og som skal regne om dette til formatet t:m:s, og returnere resultatet som en tekststreng. \n",
    "- Her står t for time, m for minutt og s for sekunder.\n",
    "- Hvis tiden er mindre enn 1 time skal den returnere 'm:s'. \n",
    "- Ellers skal den returnere 't:m:s'.\n",
    "---\n",
    "- Eks. på riktig output: '0:45','2:23', '12:04','1:02:09' etc.\n",
    "---\n",
    "- Legg merke til at hvis antall sekunder (og minutter hvis det er over en time) er mindre enn 10 skal det det skrives en 0 først."
   ]
  },
  {
   "cell_type": "code",
   "execution_count": 30,
   "metadata": {},
   "outputs": [
    {
     "name": "stdout",
     "output_type": "stream",
     "text": [
      "1:06:40\n"
     ]
    }
   ],
   "source": [
    "\n",
    "def sec_to_time(sec): \n",
    "    t = sec // (60 * 60)\n",
    "    sec = sec % (60 * 60) # sec = sec - t * 60 * 60\n",
    "    \n",
    "    m = sec // 60 \n",
    "    s = sec % 60 # s = sec - m * 60\n",
    "    \n",
    "    resultat = \"\"\n",
    "    if t > 0: \n",
    "        resultat += str(t) + \":\" \n",
    "        if m < 10: \n",
    "            resultat += \"0\"\n",
    "    \n",
    "    resultat += str(m) + \":\"\n",
    "        \n",
    "    if s < 10: \n",
    "        resultat += \"0\"\n",
    "    resultat += str(s)\n",
    "        \n",
    "    return resultat\n",
    "\n",
    "print(sec_to_time(4000))"
   ]
  },
  {
   "cell_type": "markdown",
   "metadata": {},
   "source": [
    "## Programmering 2020 kont 3.2\n",
    "- Lag funksjonen time_to_sec som tar inn en input-parameter *tstring* som er en streng med tidsinformasjon spesifisert som \"time:minutt:sekund\" og regner den om til antall sekunder.\n",
    "- Det er ikke gitt at alle elementene er med. Funksjonen må håndtere strenger som \"30\",\"20:30\",\"1:20:30\",\"1::30\",\"::45\",\":12:\",\"1::\". \n",
    "---\n",
    "- Funksjonen behøver ikke ta hensyn til strenger som ikke følger dette formatet.\n",
    "--- \n",
    "- Funksjonen skal returnere antall sekunder strengen representerer som et heltall."
   ]
  },
  {
   "cell_type": "code",
   "execution_count": 31,
   "metadata": {},
   "outputs": [
    {
     "data": {
      "text/plain": [
       "4000"
      ]
     },
     "execution_count": 31,
     "metadata": {},
     "output_type": "execute_result"
    }
   ],
   "source": [
    "\n",
    "def time_to_sec(tstring): \n",
    "    \n",
    "    liste = tstring.split(\":\") #2*: => [t, m, s], #1*: => [m, s], 0*: => [s]\n",
    "    \n",
    "    sek = 0\n",
    "    \n",
    "    if len(liste) == 3: \n",
    "        sek += 60 * 60 * int(liste[0]) # timer\n",
    "        sek += 60 * int(liste[1]) # min\n",
    "        sek += int(liste[2]) # sek \n",
    "    elif len(liste == 2): \n",
    "        sek += 60 * int(liste[0]) # min\n",
    "        sek += int(liste[1]) # sek \n",
    "    elif len(liste == 1): \n",
    "        sek += int(liste[0]) # sek \n",
    "    \n",
    "    return sek\n",
    "\n",
    "time_to_sec(\"1:06:40\")"
   ]
  },
  {
   "cell_type": "markdown",
   "metadata": {},
   "source": [
    "## Programmering 2020 kont 3.3\n",
    "- Lag funksjonen enter_song som ikke har noe input-parameter, der brukerenkan skrive inn data for en sang medtastaturet.\n",
    "- Data som skal skrives inn er Tittel; Artist; Sjanger; Lengde (i min:sek) med semikolon mellom hvert element. \n",
    "- Funksjonen skal returnere en liste på formatet ['Tittel','Artist','Sjanger','m:s'].\n",
    "---\n",
    "- Funksjonen skal førstskrive følgende til skjerm: \"Enter song (Title;Artist;Genre;m:s)\", og deretter en ny linje der brukeren skal skrive inn informasjon med prompt (spørretekst) \"> \".\n",
    "---\n",
    "- Hvis det skrives innugyldige dataskal funksjonen skrive teksten \"Ugyldige data\" og spørre brukeren om å skrive inn data på nytt. Dataene er ugyldig hvis:\n",
    "---\n",
    "1. Man ikke har lagt inn 4 verdier (dvs. fire elementer med semikolon mellom).\n",
    "2. Lengden er ikke angitt på riktig tidsformat (m:s) der s er et tall mellom 0 og 59, og m er et tall større enn 0."
   ]
  },
  {
   "cell_type": "code",
   "execution_count": 33,
   "metadata": {},
   "outputs": [
    {
     "name": "stdout",
     "output_type": "stream",
     "text": [
      "Enter song (Title;Artist;Genre;m:s)\n",
      "> asdcasdcasdf\n",
      "Ugyldig data. Skriv inn på nytt. \n",
      "> sdopcaskd;kasdok;sadkoak;dsad\n",
      "Ugyldig data. Skriv inn på nytt. \n",
      "> sjj;jkjsdf;kjo;i:o\n",
      "Ugyldig data. Skriv inn på nytt. \n",
      "> ihdcshac;soa;osa;1:2\n",
      "['ihdcshac', 'soa', 'osa', '1:2']\n"
     ]
    }
   ],
   "source": [
    "\n",
    "def enter_song(): \n",
    "    print(\"Enter song (Title;Artist;Genre;m:s)\")\n",
    "    while True: \n",
    "        data = input(\"> \")\n",
    "        data = data.split(\";\")\n",
    "        if len(data) != 4: \n",
    "            print(\"Ugyldig data. Skriv inn på nytt. \")\n",
    "        else: \n",
    "            tidsliste = data[3].split(\":\")\n",
    "            if len(tidsliste) != 2: \n",
    "                print(\"Ugyldig data. Skriv inn på nytt. \")\n",
    "            else: \n",
    "                m = tidsliste[0]\n",
    "                s = tidsliste[1]\n",
    "                # antar at 2. m større enn 0, så betyr det større eller lik\n",
    "                if m.isdigit() and s.isdigit() and int(m) >= 0 and int(s) >= 0 and int(s) <= 59: \n",
    "                    return data\n",
    "                else: \n",
    "                    print(\"Ugyldig data. Skriv inn på nytt. \")\n",
    "print(enter_song())"
   ]
  },
  {
   "cell_type": "markdown",
   "metadata": {},
   "source": [
    "## Programmering 2020 kont 3.4\n",
    "- Lag funksjonen read_file som har en input-parameter filename som er navnet på filen som skal leses og som returnerer en liste som inneholder en liste med de dataene som finnes i filen. \n",
    "- Hver linje i tekstfilen skal representeres som en liste. \n",
    "- Funksjonen skal altså returnere en liste med lister. \n",
    "- Funksjonen trenger ikke ta hensyn til om filen eksisterer eller problemer med lesing av fil.\n",
    "- Anta at tekstfilen songlist.txt inneholder følgende:\n",
    "\n",
    "```\n",
    "Spinning wheel;Blood, Sweat and Tears; Rock; 5:15\n",
    "In my life;The Beatles;Pop;3:17\n",
    "Rock me baby;B.B. King;Blues; 3:28; \n",
    "Waiting for Margaux;Al Stewart; Pop; 4:35\n",
    "```\n",
    "\n"
   ]
  },
  {
   "cell_type": "code",
   "execution_count": 34,
   "metadata": {},
   "outputs": [],
   "source": [
    "\n",
    "def read_file(filename): \n",
    "    f = open(filename, \"r\")\n",
    "    \n",
    "    resultat = [] \n",
    "    for linje in f.readlines(): \n",
    "        linjeliste = linje.strip().split(\";\")\n",
    "        resultat.append(linjeliste)\n",
    "    \n",
    "    f.close()\n",
    "\n",
    "    return resultat"
   ]
  },
  {
   "cell_type": "markdown",
   "metadata": {},
   "source": [
    "## Programmering 2020 kont 3.5\n",
    "- Lag funksjonen list_content som har to input-parametere: filename som er en tekststreng som angir navnet på fila som det skal leses fra og choice som er en tekststreng som spesifiserer hvilken type data som skal listes. \n",
    "- Parameteren choice kan ha tre ulike verdier: \n",
    "--- \n",
    "1. 'title' - da skal alle unike sangtitler i fila filename returneres som ei liste.\n",
    "2. 'artist' - da skal alle unike artister i fila filename returneres som ei liste.\n",
    "3. 'genre' - da skal alle unike sjangere i fila filename returneres som ei liste.\n",
    "---\n",
    "- Merk at det skal gå an å skrive 'title','artist' og 'genre' med store og små bokstaver.\n",
    "- Hvis ikke gyldig choice er angitt skal tom liste returneres.\n",
    "- Fila som det skal leses av her formatert som vist i Oppgave 3.4. Man trenger ikke ta hensyn til om fil ikke eksisterer eller problemer med å lese fra fil.\n",
    "- Listene skal ikke inneholde duplikater (dvs. flere like elementer) og rekkefølgene på elementene er ikke bestemt.\n",
    "---\n",
    "- *Løsningen skal benytte seg av funksjoner spesifisert i tidligere oppgaver så langt dette er mulig!*"
   ]
  },
  {
   "cell_type": "code",
   "execution_count": 36,
   "metadata": {},
   "outputs": [],
   "source": [
    "\n",
    "def list_contet(filename, choice): \n",
    "    \n",
    "    data = read_file(filename)\n",
    "    \n",
    "    if choice.lower() == \"title\": \n",
    "        index = 0\n",
    "    elif choice.lower() == \"artist\": \n",
    "        index = 1\n",
    "    elif choice.lower() == \"genre\": \n",
    "        index = 2\n",
    "    else: \n",
    "        return []\n",
    "    \n",
    "    liste = []\n",
    "    for linje in data: \n",
    "        if linje[index] not in liste: \n",
    "            liste.append(linje[index])\n",
    "    return liste\n",
    "    "
   ]
  },
  {
   "cell_type": "markdown",
   "metadata": {},
   "source": [
    "\n"
   ]
  }
 ],
 "metadata": {
  "kernelspec": {
   "display_name": "Python 3",
   "language": "python",
   "name": "python3"
  },
  "language_info": {
   "codemirror_mode": {
    "name": "ipython",
    "version": 3
   },
   "file_extension": ".py",
   "mimetype": "text/x-python",
   "name": "python",
   "nbconvert_exporter": "python",
   "pygments_lexer": "ipython3",
   "version": "3.7.6"
  }
 },
 "nbformat": 4,
 "nbformat_minor": 4
}
